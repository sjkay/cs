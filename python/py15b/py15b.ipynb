{
 "cells": [
  {
   "cell_type": "code",
   "execution_count": 1,
   "metadata": {
    "collapsed": true
   },
   "outputs": [],
   "source": [
    "import math\n",
    "class FinderError(Exception):\n",
    "    def __init__(self,message,x1,x2,f):\n",
    "        self.mesg = message\n",
    "        self.x1 = x1\n",
    "        self.x2 = x2\n",
    "        self.f = f\n",
    "def zero_finder(f,start,end,eps=1E-9):\n",
    "    y1 = f(start)\n",
    "    y2 = f(end)\n",
    "    if y1*y2 >= 0:\n",
    "        raise FinderError(\"Two candidates have same signs\", start,end,f)\n",
    "    x = (start + end)/2\n",
    "    y = f(x)\n",
    "    while math.fabs(y) >= eps:\n",
    "        if y1*y < 0:\n",
    "            end = x\n",
    "        else:\n",
    "            start = x\n",
    "        x = (start + end)/2\n",
    "        y = f(x)\n",
    "    return x"
   ]
  },
  {
   "cell_type": "code",
   "execution_count": 4,
   "metadata": {
    "collapsed": false
   },
   "outputs": [
    {
     "name": "stdout",
     "output_type": "stream",
     "text": [
      "-1.0000000004656613\n"
     ]
    }
   ],
   "source": [
    "try:\n",
    "    x = zero_finder(lambda x: x*x - 1, -3,0)\n",
    "    print(x)\n",
    "except FinderError as e:\n",
    "    print(\"{mesg}: x1={x1},x2={x2},y1={y1},y2={y2}\"\n",
    "        .format(mesg=e.mesg, x1=e.x1,x2=e.x2, y1=e.f(e.x1),y2=e.f(e.x2)))"
   ]
  },
  {
   "cell_type": "code",
   "execution_count": 3,
   "metadata": {
    "collapsed": false
   },
   "outputs": [
    {
     "name": "stdout",
     "output_type": "stream",
     "text": [
      "1.0000000004656613\n"
     ]
    }
   ],
   "source": [
    "try:\n",
    "    x = zero_finder(lambda x: x*x - 1, 0,3)\n",
    "    print(x)\n",
    "except FinderError as e:\n",
    "    print(\"{mesg}: x1={x1},x2={x2},y1={y1},y2={y2}\"\n",
    "        .format(mesg=e.mesg,\n",
    "            x1=e.x1,x2=e.x2,\n",
    "            y1=e.f(e.x1),y2=e.f(e.x2)))"
   ]
  },
  {
   "cell_type": "code",
   "execution_count": 4,
   "metadata": {
    "collapsed": false
   },
   "outputs": [
    {
     "name": "stdout",
     "output_type": "stream",
     "text": [
      "Two candidates have same signs: x1=-3,x2=3,y1=8,y2=8\n"
     ]
    }
   ],
   "source": [
    "try:\n",
    "    x = zero_finder(lambda x: x*x - 1, -3,3)\n",
    "    print(x)\n",
    "except FinderError as e:\n",
    "    print(\"{mesg}: x1={x1},x2={x2},y1={y1},y2={y2}\"\n",
    "        .format(mesg=e.mesg,\n",
    "            x1=e.x1,x2=e.x2,\n",
    "            y1=e.f(e.x1),y2=e.f(e.x2)))"
   ]
  },
  {
   "cell_type": "code",
   "execution_count": 39,
   "metadata": {
    "collapsed": true
   },
   "outputs": [],
   "source": [
    "def eq_finder(f,g,start,end,eps=1E-9):\n",
    "    y1 = f(start) - g(start)\n",
    "    y2 = f(end)- g(end)\n",
    "    if y1*y2 >= 0:\n",
    "        raise FinderError(\"Two candidates have same signs\", start,end,f)\n",
    "    x = (start + end)/2\n",
    "    y = f(x) - g(x)\n",
    "    while math.fabs(y) >= eps:\n",
    "        if y1*y < 0:\n",
    "            end = x\n",
    "        else:\n",
    "            start = x\n",
    "        x = (start + end)/2\n",
    "        y = f(x) - g(x)\n",
    "    return x"
   ]
  },
  {
   "cell_type": "code",
   "execution_count": 6,
   "metadata": {
    "collapsed": false
   },
   "outputs": [
    {
     "name": "stdout",
     "output_type": "stream",
     "text": [
      "1.6180339884012938\n"
     ]
    }
   ],
   "source": [
    "try:\n",
    "    x = eq_finder(lambda x: x*x - 1,lambda x: x, 0,3)\n",
    "    print(x)\n",
    "except FinderError as e:\n",
    "    print(\"{mesg}: x1={x1},x2={x2},y1={y1},y2={y2}\"\n",
    "        .format(mesg=e.mesg,\n",
    "            x1=e.x1,x2=e.x2,\n",
    "            y1=e.f(e.x1),y2=e.f(e.x2)))"
   ]
  },
  {
   "cell_type": "code",
   "execution_count": 7,
   "metadata": {
    "collapsed": false
   },
   "outputs": [
    {
     "name": "stdout",
     "output_type": "stream",
     "text": [
      "Two candidates have same signs: x1=3,x2=5,y1=8,y2=24\n"
     ]
    }
   ],
   "source": [
    "try:\n",
    "    x = eq_finder(lambda x: x*x - 1,lambda x: x, 3,5)\n",
    "    print(x)\n",
    "except FinderError as e:\n",
    "    print(\"{mesg}: x1={x1},x2={x2},y1={y1},y2={y2}\"\n",
    "        .format(mesg=e.mesg,\n",
    "            x1=e.x1,x2=e.x2,\n",
    "            y1=e.f(e.x1),y2=e.f(e.x2)))"
   ]
  },
  {
   "cell_type": "code",
   "execution_count": 9,
   "metadata": {
    "collapsed": false
   },
   "outputs": [],
   "source": [
    "f = lambda x: x*x - 1\n",
    "g = lambda x: x"
   ]
  },
  {
   "cell_type": "code",
   "execution_count": 29,
   "metadata": {
    "collapsed": false
   },
   "outputs": [
    {
     "ename": "FinderError",
     "evalue": "('Two candidates have same signs', 2, 3, <function <lambda> at 0x1032482f0>)",
     "output_type": "error",
     "traceback": [
      "\u001b[0;31m---------------------------------------------------------------------------\u001b[0m",
      "\u001b[0;31mFinderError\u001b[0m                               Traceback (most recent call last)",
      "\u001b[0;32m<ipython-input-29-49fcf1a979a7>\u001b[0m in \u001b[0;36m<module>\u001b[0;34m()\u001b[0m\n\u001b[0;32m----> 1\u001b[0;31m \u001b[0mx\u001b[0m \u001b[0;34m=\u001b[0m \u001b[0mzero_finder\u001b[0m\u001b[0;34m(\u001b[0m\u001b[0;32mlambda\u001b[0m \u001b[0mx\u001b[0m\u001b[0;34m:\u001b[0m\u001b[0mf\u001b[0m\u001b[0;34m(\u001b[0m\u001b[0mx\u001b[0m\u001b[0;34m)\u001b[0m\u001b[0;34m-\u001b[0m\u001b[0mg\u001b[0m\u001b[0;34m(\u001b[0m\u001b[0mx\u001b[0m\u001b[0;34m)\u001b[0m\u001b[0;34m,\u001b[0m \u001b[0;36m2\u001b[0m\u001b[0;34m,\u001b[0m\u001b[0;36m3\u001b[0m\u001b[0;34m)\u001b[0m\u001b[0;34m\u001b[0m\u001b[0m\n\u001b[0m\u001b[1;32m      2\u001b[0m \u001b[0mprint\u001b[0m\u001b[0;34m(\u001b[0m\u001b[0mx\u001b[0m\u001b[0;34m)\u001b[0m\u001b[0;34m\u001b[0m\u001b[0m\n",
      "\u001b[0;32m<ipython-input-1-cbf9e783fd96>\u001b[0m in \u001b[0;36mzero_finder\u001b[0;34m(f, start, end, eps)\u001b[0m\n\u001b[1;32m     10\u001b[0m     \u001b[0my2\u001b[0m \u001b[0;34m=\u001b[0m \u001b[0mf\u001b[0m\u001b[0;34m(\u001b[0m\u001b[0mend\u001b[0m\u001b[0;34m)\u001b[0m\u001b[0;34m\u001b[0m\u001b[0m\n\u001b[1;32m     11\u001b[0m     \u001b[0;32mif\u001b[0m \u001b[0my1\u001b[0m\u001b[0;34m*\u001b[0m\u001b[0my2\u001b[0m \u001b[0;34m>=\u001b[0m \u001b[0;36m0\u001b[0m\u001b[0;34m:\u001b[0m\u001b[0;34m\u001b[0m\u001b[0m\n\u001b[0;32m---> 12\u001b[0;31m         \u001b[0;32mraise\u001b[0m \u001b[0mFinderError\u001b[0m\u001b[0;34m(\u001b[0m\u001b[0;34m\"Two candidates have same signs\"\u001b[0m\u001b[0;34m,\u001b[0m \u001b[0mstart\u001b[0m\u001b[0;34m,\u001b[0m\u001b[0mend\u001b[0m\u001b[0;34m,\u001b[0m\u001b[0mf\u001b[0m\u001b[0;34m)\u001b[0m\u001b[0;34m\u001b[0m\u001b[0m\n\u001b[0m\u001b[1;32m     13\u001b[0m     \u001b[0mx\u001b[0m \u001b[0;34m=\u001b[0m \u001b[0;34m(\u001b[0m\u001b[0mstart\u001b[0m \u001b[0;34m+\u001b[0m \u001b[0mend\u001b[0m\u001b[0;34m)\u001b[0m\u001b[0;34m/\u001b[0m\u001b[0;36m2\u001b[0m\u001b[0;34m\u001b[0m\u001b[0m\n\u001b[1;32m     14\u001b[0m     \u001b[0my\u001b[0m \u001b[0;34m=\u001b[0m \u001b[0mf\u001b[0m\u001b[0;34m(\u001b[0m\u001b[0mx\u001b[0m\u001b[0;34m)\u001b[0m\u001b[0;34m\u001b[0m\u001b[0m\n",
      "\u001b[0;31mFinderError\u001b[0m: ('Two candidates have same signs', 2, 3, <function <lambda> at 0x1032482f0>)"
     ]
    }
   ],
   "source": [
    "x = zero_finder(lambda x:f(x)-g(x), 2,3)\n",
    "print(x)"
   ]
  },
  {
   "cell_type": "code",
   "execution_count": 24,
   "metadata": {
    "collapsed": false
   },
   "outputs": [
    {
     "name": "stdout",
     "output_type": "stream",
     "text": [
      "1.6180339884012938\n"
     ]
    }
   ],
   "source": [
    "x = eq_finder(lambda x: x*x - 1,lambda x: x, 0,3)\n",
    "print(x)"
   ]
  },
  {
   "cell_type": "code",
   "execution_count": 36,
   "metadata": {
    "collapsed": true
   },
   "outputs": [],
   "source": [
    "def eq_finder(f,g,start,end,eps=1E-9):\n",
    "    h= lambda x: f(x) - g(x)\n",
    "    y1 = h(start)\n",
    "    y2 = h(end)\n",
    "    if y1*y2 >= 0:\n",
    "        raise FinderError(\"Two candidates have same signs\", start,end,f)\n",
    "    return zero_finder(h, 2,3)"
   ]
  },
  {
   "cell_type": "code",
   "execution_count": 40,
   "metadata": {
    "collapsed": false
   },
   "outputs": [
    {
     "name": "stdout",
     "output_type": "stream",
     "text": [
      "1.6180339886341244\n"
     ]
    }
   ],
   "source": [
    "try:\n",
    "    x = eq_finder(lambda x: x*x - 1,lambda x: x, 0,5)\n",
    "    print(x)\n",
    "except FinderError as e:\n",
    "    print(\"{mesg}: x1={x1},x2={x2},y1={y1},y2={y2}\"\n",
    "        .format(mesg=e.mesg,\n",
    "            x1=e.x1,x2=e.x2,\n",
    "            y1=e.f(e.x1),y2=e.f(e.x2)))"
   ]
  },
  {
   "cell_type": "code",
   "execution_count": 6,
   "metadata": {
    "collapsed": false
   },
   "outputs": [],
   "source": [
    "def zero_finder(f,start,end,eps=1E-9):\n",
    "    y1 = f(start)\n",
    "    y2 = f(end)\n",
    "    if y1*y2 >= 0:\n",
    "        raise FinderError(\"Two candidates have same signs\", start,end,f)\n",
    "    x = (start + end)/2\n",
    "    y = f(x)\n",
    "    while math.fabs(y) >= eps:\n",
    "        if y1*y < 0:\n",
    "            end = x\n",
    "        else:\n",
    "            start = x\n",
    "        x = (start + end)/2\n",
    "        y = f(x)\n",
    "    return x"
   ]
  },
  {
   "cell_type": "code",
   "execution_count": 9,
   "metadata": {
    "collapsed": true
   },
   "outputs": [],
   "source": [
    "def solution_finder(f,start=-10,end=10,n=100,eps=1E-9):\n",
    "    answers=[]\n",
    "    length=end-start\n",
    "    part=length/n\n",
    "    a=start\n",
    "    b=a+part\n",
    "    while(b<end):\n",
    "        if f(a)*f(b)<0:\n",
    "            answers.append(zero_finder(f,a,b))\n",
    "        a=b\n",
    "        b+=part\n",
    "    return answers\n",
    "        "
   ]
  },
  {
   "cell_type": "code",
   "execution_count": 13,
   "metadata": {
    "collapsed": false
   },
   "outputs": [
    {
     "name": "stdout",
     "output_type": "stream",
     "text": [
      "[-1.0000000002037268, 1.0000000002037268]\n"
     ]
    }
   ],
   "source": [
    "x = solution_finder(lambda x: x*x - 1, -10000,10000)\n",
    "print(x)"
   ]
  },
  {
   "cell_type": "code",
   "execution_count": null,
   "metadata": {
    "collapsed": true
   },
   "outputs": [],
   "source": []
  }
 ],
 "metadata": {
  "kernelspec": {
   "display_name": "Python 3",
   "language": "python",
   "name": "python3"
  },
  "language_info": {
   "codemirror_mode": {
    "name": "ipython",
    "version": 3
   },
   "file_extension": ".py",
   "mimetype": "text/x-python",
   "name": "python",
   "nbconvert_exporter": "python",
   "pygments_lexer": "ipython3",
   "version": "3.6.0"
  }
 },
 "nbformat": 4,
 "nbformat_minor": 2
}
