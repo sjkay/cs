{
 "cells": [
  {
   "cell_type": "code",
   "execution_count": 3,
   "metadata": {
    "collapsed": false
   },
   "outputs": [
    {
     "name": "stdout",
     "output_type": "stream",
     "text": [
      "120\n",
      "120\n",
      "True\n"
     ]
    }
   ],
   "source": [
    "def test(n):\n",
    "    if n == 0:\n",
    "        return 1\n",
    "    else:\n",
    "        return n*test(n-1)\n",
    "print(test(5))\n",
    "g = {}\n",
    "l = None\n",
    "exec('test=20',g,l)\n",
    "print(test(5))\n",
    "print('test' in g)"
   ]
  },
  {
   "cell_type": "code",
   "execution_count": 4,
   "metadata": {
    "collapsed": false
   },
   "outputs": [
    {
     "name": "stdout",
     "output_type": "stream",
     "text": [
      "20\n"
     ]
    }
   ],
   "source": [
    "gx = 10\n",
    "g= {'gx': 20}\n",
    "exec('print(gx)', g)"
   ]
  },
  {
   "cell_type": "code",
   "execution_count": 7,
   "metadata": {
    "collapsed": false
   },
   "outputs": [
    {
     "data": {
      "text/plain": [
       "{'In': ['',\n",
       "  'def test(n):\\n    if n == 0:\\n        return 1\\n    else:\\n        return n*test(n-1)\\nprint(test(5))\\ng = {}\\nl = None\\nexec(’test=20’,g,l)\\nprint(test(5))\\nprint(’test’ in g)',\n",
       "  \"def test(n):\\n    if n == 0:\\n        return 1\\n    else:\\n        return n*test(n-1)\\nprint(test(5))\\ng = {}\\nl = None\\nexec('test=20',g,l)\\nprint(test(5))\\nprint('test' in g)\",\n",
       "  \"def test(n):\\n    if n == 0:\\n        return 1\\n    else:\\n        return n*test(n-1)\\nprint(test(5))\\ng = {}\\nl = None\\nexec('test=20',g,l)\\nprint(test(5))\\nprint('test' in g)\",\n",
       "  \"gx = 10\\ng= {'gx': 20}\\nexec('print(gx)', g)\",\n",
       "  'globals()',\n",
       "  'global()',\n",
       "  'globals()'],\n",
       " 'Out': {5: {...}},\n",
       " '_': {...},\n",
       " '_5': {...},\n",
       " '__': '',\n",
       " '___': '',\n",
       " '__builtin__': <module 'builtins' (built-in)>,\n",
       " '__builtins__': <module 'builtins' (built-in)>,\n",
       " '__doc__': 'Automatically created module for IPython interactive environment',\n",
       " '__loader__': None,\n",
       " '__name__': '__main__',\n",
       " '__package__': None,\n",
       " '__spec__': None,\n",
       " '_dh': ['/Users/sjk/cs/python/py13b'],\n",
       " '_i': 'global()',\n",
       " '_i1': 'def test(n):\\n    if n == 0:\\n        return 1\\n    else:\\n        return n*test(n-1)\\nprint(test(5))\\ng = {}\\nl = None\\nexec(’test=20’,g,l)\\nprint(test(5))\\nprint(’test’ in g)',\n",
       " '_i2': \"def test(n):\\n    if n == 0:\\n        return 1\\n    else:\\n        return n*test(n-1)\\nprint(test(5))\\ng = {}\\nl = None\\nexec('test=20',g,l)\\nprint(test(5))\\nprint('test' in g)\",\n",
       " '_i3': \"def test(n):\\n    if n == 0:\\n        return 1\\n    else:\\n        return n*test(n-1)\\nprint(test(5))\\ng = {}\\nl = None\\nexec('test=20',g,l)\\nprint(test(5))\\nprint('test' in g)\",\n",
       " '_i4': \"gx = 10\\ng= {'gx': 20}\\nexec('print(gx)', g)\",\n",
       " '_i5': 'globals()',\n",
       " '_i6': 'global()',\n",
       " '_i7': 'globals()',\n",
       " '_ih': ['',\n",
       "  'def test(n):\\n    if n == 0:\\n        return 1\\n    else:\\n        return n*test(n-1)\\nprint(test(5))\\ng = {}\\nl = None\\nexec(’test=20’,g,l)\\nprint(test(5))\\nprint(’test’ in g)',\n",
       "  \"def test(n):\\n    if n == 0:\\n        return 1\\n    else:\\n        return n*test(n-1)\\nprint(test(5))\\ng = {}\\nl = None\\nexec('test=20',g,l)\\nprint(test(5))\\nprint('test' in g)\",\n",
       "  \"def test(n):\\n    if n == 0:\\n        return 1\\n    else:\\n        return n*test(n-1)\\nprint(test(5))\\ng = {}\\nl = None\\nexec('test=20',g,l)\\nprint(test(5))\\nprint('test' in g)\",\n",
       "  \"gx = 10\\ng= {'gx': 20}\\nexec('print(gx)', g)\",\n",
       "  'globals()',\n",
       "  'global()',\n",
       "  'globals()'],\n",
       " '_ii': 'globals()',\n",
       " '_iii': \"gx = 10\\ng= {'gx': 20}\\nexec('print(gx)', g)\",\n",
       " '_oh': {5: {...}},\n",
       " '_sh': <module 'IPython.core.shadowns' from '/Users/sjk/anaconda/lib/python3.6/site-packages/IPython/core/shadowns.py'>,\n",
       " 'exit': <IPython.core.autocall.ZMQExitAutocall at 0x11120b278>,\n",
       " 'g': {'__builtins__': {'ArithmeticError': ArithmeticError,\n",
       "   'AssertionError': AssertionError,\n",
       "   'AttributeError': AttributeError,\n",
       "   'BaseException': BaseException,\n",
       "   'BlockingIOError': BlockingIOError,\n",
       "   'BrokenPipeError': BrokenPipeError,\n",
       "   'BufferError': BufferError,\n",
       "   'BytesWarning': BytesWarning,\n",
       "   'ChildProcessError': ChildProcessError,\n",
       "   'ConnectionAbortedError': ConnectionAbortedError,\n",
       "   'ConnectionError': ConnectionError,\n",
       "   'ConnectionRefusedError': ConnectionRefusedError,\n",
       "   'ConnectionResetError': ConnectionResetError,\n",
       "   'DeprecationWarning': DeprecationWarning,\n",
       "   'EOFError': EOFError,\n",
       "   'Ellipsis': Ellipsis,\n",
       "   'EnvironmentError': OSError,\n",
       "   'Exception': Exception,\n",
       "   'False': False,\n",
       "   'FileExistsError': FileExistsError,\n",
       "   'FileNotFoundError': FileNotFoundError,\n",
       "   'FloatingPointError': FloatingPointError,\n",
       "   'FutureWarning': FutureWarning,\n",
       "   'GeneratorExit': GeneratorExit,\n",
       "   'IOError': OSError,\n",
       "   'ImportError': ImportError,\n",
       "   'ImportWarning': ImportWarning,\n",
       "   'IndentationError': IndentationError,\n",
       "   'IndexError': IndexError,\n",
       "   'InterruptedError': InterruptedError,\n",
       "   'IsADirectoryError': IsADirectoryError,\n",
       "   'KeyError': KeyError,\n",
       "   'KeyboardInterrupt': KeyboardInterrupt,\n",
       "   'LookupError': LookupError,\n",
       "   'MemoryError': MemoryError,\n",
       "   'ModuleNotFoundError': ModuleNotFoundError,\n",
       "   'NameError': NameError,\n",
       "   'None': None,\n",
       "   'NotADirectoryError': NotADirectoryError,\n",
       "   'NotImplemented': NotImplemented,\n",
       "   'NotImplementedError': NotImplementedError,\n",
       "   'OSError': OSError,\n",
       "   'OverflowError': OverflowError,\n",
       "   'PendingDeprecationWarning': PendingDeprecationWarning,\n",
       "   'PermissionError': PermissionError,\n",
       "   'ProcessLookupError': ProcessLookupError,\n",
       "   'RecursionError': RecursionError,\n",
       "   'ReferenceError': ReferenceError,\n",
       "   'ResourceWarning': ResourceWarning,\n",
       "   'RuntimeError': RuntimeError,\n",
       "   'RuntimeWarning': RuntimeWarning,\n",
       "   'StopAsyncIteration': StopAsyncIteration,\n",
       "   'StopIteration': StopIteration,\n",
       "   'SyntaxError': SyntaxError,\n",
       "   'SyntaxWarning': SyntaxWarning,\n",
       "   'SystemError': SystemError,\n",
       "   'SystemExit': SystemExit,\n",
       "   'TabError': TabError,\n",
       "   'TimeoutError': TimeoutError,\n",
       "   'True': True,\n",
       "   'TypeError': TypeError,\n",
       "   'UnboundLocalError': UnboundLocalError,\n",
       "   'UnicodeDecodeError': UnicodeDecodeError,\n",
       "   'UnicodeEncodeError': UnicodeEncodeError,\n",
       "   'UnicodeError': UnicodeError,\n",
       "   'UnicodeTranslateError': UnicodeTranslateError,\n",
       "   'UnicodeWarning': UnicodeWarning,\n",
       "   'UserWarning': UserWarning,\n",
       "   'ValueError': ValueError,\n",
       "   'Warning': Warning,\n",
       "   'ZeroDivisionError': ZeroDivisionError,\n",
       "   '__IPYTHON__': True,\n",
       "   '__build_class__': <function __build_class__>,\n",
       "   '__debug__': True,\n",
       "   '__doc__': \"Built-in functions, exceptions, and other objects.\\n\\nNoteworthy: None is the `nil' object; Ellipsis represents `...' in slices.\",\n",
       "   '__import__': <function __import__>,\n",
       "   '__loader__': _frozen_importlib.BuiltinImporter,\n",
       "   '__name__': 'builtins',\n",
       "   '__package__': '',\n",
       "   '__spec__': ModuleSpec(name='builtins', loader=<class '_frozen_importlib.BuiltinImporter'>),\n",
       "   'abs': <function abs>,\n",
       "   'all': <function all>,\n",
       "   'any': <function any>,\n",
       "   'ascii': <function ascii>,\n",
       "   'bin': <function bin>,\n",
       "   'bool': bool,\n",
       "   'bytearray': bytearray,\n",
       "   'bytes': bytes,\n",
       "   'callable': <function callable>,\n",
       "   'chr': <function chr>,\n",
       "   'classmethod': classmethod,\n",
       "   'compile': <function compile>,\n",
       "   'complex': complex,\n",
       "   'copyright': Copyright (c) 2001-2016 Python Software Foundation.\n",
       "   All Rights Reserved.\n",
       "   \n",
       "   Copyright (c) 2000 BeOpen.com.\n",
       "   All Rights Reserved.\n",
       "   \n",
       "   Copyright (c) 1995-2001 Corporation for National Research Initiatives.\n",
       "   All Rights Reserved.\n",
       "   \n",
       "   Copyright (c) 1991-1995 Stichting Mathematisch Centrum, Amsterdam.\n",
       "   All Rights Reserved.,\n",
       "   'credits':     Thanks to CWI, CNRI, BeOpen.com, Zope Corporation and a cast of thousands\n",
       "       for supporting Python development.  See www.python.org for more information.,\n",
       "   'delattr': <function delattr>,\n",
       "   'dict': dict,\n",
       "   'dir': <function dir>,\n",
       "   'divmod': <function divmod>,\n",
       "   'dreload': <function IPython.lib.deepreload._dreload>,\n",
       "   'enumerate': enumerate,\n",
       "   'eval': <function eval>,\n",
       "   'exec': <function exec>,\n",
       "   'filter': filter,\n",
       "   'float': float,\n",
       "   'format': <function format>,\n",
       "   'frozenset': frozenset,\n",
       "   'get_ipython': <bound method InteractiveShell.get_ipython of <ipykernel.zmqshell.ZMQInteractiveShell object at 0x1111d0b38>>,\n",
       "   'getattr': <function getattr>,\n",
       "   'globals': <function globals>,\n",
       "   'hasattr': <function hasattr>,\n",
       "   'hash': <function hash>,\n",
       "   'help': Type help() for interactive help, or help(object) for help about object.,\n",
       "   'hex': <function hex>,\n",
       "   'id': <function id>,\n",
       "   'input': <bound method Kernel.raw_input of <ipykernel.ipkernel.IPythonKernel object at 0x1111d0c50>>,\n",
       "   'int': int,\n",
       "   'isinstance': <function isinstance>,\n",
       "   'issubclass': <function issubclass>,\n",
       "   'iter': <function iter>,\n",
       "   'len': <function len>,\n",
       "   'license': Type license() to see the full license text,\n",
       "   'list': list,\n",
       "   'locals': <function locals>,\n",
       "   'map': map,\n",
       "   'max': <function max>,\n",
       "   'memoryview': memoryview,\n",
       "   'min': <function min>,\n",
       "   'next': <function next>,\n",
       "   'object': object,\n",
       "   'oct': <function oct>,\n",
       "   'open': <function io.open>,\n",
       "   'ord': <function ord>,\n",
       "   'pow': <function pow>,\n",
       "   'print': <function print>,\n",
       "   'property': property,\n",
       "   'range': range,\n",
       "   'repr': <function repr>,\n",
       "   'reversed': reversed,\n",
       "   'round': <function round>,\n",
       "   'set': set,\n",
       "   'setattr': <function setattr>,\n",
       "   'slice': slice,\n",
       "   'sorted': <function sorted>,\n",
       "   'staticmethod': staticmethod,\n",
       "   'str': str,\n",
       "   'sum': <function sum>,\n",
       "   'super': super,\n",
       "   'tuple': tuple,\n",
       "   'type': type,\n",
       "   'vars': <function vars>,\n",
       "   'zip': zip},\n",
       "  'gx': 20},\n",
       " 'get_ipython': <bound method InteractiveShell.get_ipython of <ipykernel.zmqshell.ZMQInteractiveShell object at 0x1111d0b38>>,\n",
       " 'gx': 10,\n",
       " 'l': None,\n",
       " 'quit': <IPython.core.autocall.ZMQExitAutocall at 0x11120b278>,\n",
       " 'test': <function __main__.test>}"
      ]
     },
     "execution_count": 7,
     "metadata": {},
     "output_type": "execute_result"
    }
   ],
   "source": [
    "globals()"
   ]
  },
  {
   "cell_type": "code",
   "execution_count": 1,
   "metadata": {
    "collapsed": false
   },
   "outputs": [
    {
     "name": "stdout",
     "output_type": "stream",
     "text": [
      "True\n"
     ]
    }
   ],
   "source": [
    "print(True or (5/0 < 1))"
   ]
  },
  {
   "cell_type": "code",
   "execution_count": 2,
   "metadata": {
    "collapsed": false
   },
   "outputs": [
    {
     "ename": "ZeroDivisionError",
     "evalue": "division by zero",
     "output_type": "error",
     "traceback": [
      "\u001b[0;31m---------------------------------------------------------------------------\u001b[0m",
      "\u001b[0;31mZeroDivisionError\u001b[0m                         Traceback (most recent call last)",
      "\u001b[0;32m<ipython-input-2-2665275d911a>\u001b[0m in \u001b[0;36m<module>\u001b[0;34m()\u001b[0m\n\u001b[0;32m----> 1\u001b[0;31m \u001b[0mprint\u001b[0m\u001b[0;34m(\u001b[0m\u001b[0;34m(\u001b[0m\u001b[0;36m5\u001b[0m\u001b[0;34m/\u001b[0m\u001b[0;36m0\u001b[0m \u001b[0;34m<\u001b[0m \u001b[0;36m1\u001b[0m\u001b[0;34m)\u001b[0m \u001b[0;32mor\u001b[0m \u001b[0;32mTrue\u001b[0m\u001b[0;34m)\u001b[0m\u001b[0;34m\u001b[0m\u001b[0m\n\u001b[0m",
      "\u001b[0;31mZeroDivisionError\u001b[0m: division by zero"
     ]
    }
   ],
   "source": [
    "print((5/0 < 1) or True)"
   ]
  },
  {
   "cell_type": "code",
   "execution_count": 3,
   "metadata": {
    "collapsed": false
   },
   "outputs": [
    {
     "name": "stdout",
     "output_type": "stream",
     "text": [
      "1.5\n"
     ]
    }
   ],
   "source": [
    "print(True and 3/2)"
   ]
  },
  {
   "cell_type": "code",
   "execution_count": 5,
   "metadata": {
    "collapsed": false
   },
   "outputs": [],
   "source": [
    "class MyException(Exception):\n",
    "    def __init__(self,val):\n",
    "        self.val = val\n",
    "def f(ary):\n",
    "    try:\n",
    "        n = g(ary)\n",
    "        return n\n",
    "    except MyException as e:\n",
    "        return e.val;\n",
    "def g(ary):\n",
    "    mul = 1\n",
    "    for i in range(len(ary)):\n",
    "        print('ary[i]=',ary[i])\n",
    "        if ary[i] == 0:\n",
    "            raise MyException(0)\n",
    "        else:\n",
    "            mul = mul * ary[i]\n",
    "    return mul"
   ]
  },
  {
   "cell_type": "code",
   "execution_count": 6,
   "metadata": {
    "collapsed": false
   },
   "outputs": [
    {
     "name": "stdout",
     "output_type": "stream",
     "text": [
      "ary[i]= 1\n",
      "ary[i]= 5\n",
      "ary[i]= 3\n",
      "15\n"
     ]
    }
   ],
   "source": [
    "print(f([1,5,3]))"
   ]
  },
  {
   "cell_type": "code",
   "execution_count": 7,
   "metadata": {
    "collapsed": false
   },
   "outputs": [
    {
     "name": "stdout",
     "output_type": "stream",
     "text": [
      "ary[i]= 3\n",
      "ary[i]= 2\n",
      "ary[i]= 2\n",
      "ary[i]= 0\n",
      "0\n"
     ]
    }
   ],
   "source": [
    "print(f([3,2,2,0,7,16,9,10,11,12]))"
   ]
  },
  {
   "cell_type": "code",
   "execution_count": 8,
   "metadata": {
    "collapsed": false
   },
   "outputs": [
    {
     "ename": "RuntimeError",
     "evalue": "IOLoop is already running",
     "output_type": "error",
     "traceback": [
      "\u001b[0;31m---------------------------------------------------------------------------\u001b[0m",
      "\u001b[0;31mRuntimeError\u001b[0m                              Traceback (most recent call last)",
      "\u001b[0;32m<ipython-input-8-7a88d9c8b72d>\u001b[0m in \u001b[0;36m<module>\u001b[0;34m()\u001b[0m\n\u001b[1;32m      9\u001b[0m \u001b[0mapp\u001b[0m \u001b[0;34m=\u001b[0m \u001b[0mmake_app\u001b[0m\u001b[0;34m(\u001b[0m\u001b[0;34m)\u001b[0m\u001b[0;34m\u001b[0m\u001b[0m\n\u001b[1;32m     10\u001b[0m \u001b[0mapp\u001b[0m\u001b[0;34m.\u001b[0m\u001b[0mlisten\u001b[0m\u001b[0;34m(\u001b[0m\u001b[0;36m8080\u001b[0m\u001b[0;34m)\u001b[0m\u001b[0;34m\u001b[0m\u001b[0m\n\u001b[0;32m---> 11\u001b[0;31m \u001b[0mIOLoop\u001b[0m\u001b[0;34m.\u001b[0m\u001b[0mcurrent\u001b[0m\u001b[0;34m(\u001b[0m\u001b[0;34m)\u001b[0m\u001b[0;34m.\u001b[0m\u001b[0mstart\u001b[0m\u001b[0;34m(\u001b[0m\u001b[0;34m)\u001b[0m\u001b[0;34m\u001b[0m\u001b[0m\n\u001b[0m",
      "\u001b[0;32m/Users/sjk/anaconda/lib/python3.6/site-packages/zmq/eventloop/ioloop.py\u001b[0m in \u001b[0;36mstart\u001b[0;34m(self)\u001b[0m\n\u001b[1;32m    175\u001b[0m     \u001b[0;32mdef\u001b[0m \u001b[0mstart\u001b[0m\u001b[0;34m(\u001b[0m\u001b[0mself\u001b[0m\u001b[0;34m)\u001b[0m\u001b[0;34m:\u001b[0m\u001b[0;34m\u001b[0m\u001b[0m\n\u001b[1;32m    176\u001b[0m         \u001b[0;32mtry\u001b[0m\u001b[0;34m:\u001b[0m\u001b[0;34m\u001b[0m\u001b[0m\n\u001b[0;32m--> 177\u001b[0;31m             \u001b[0msuper\u001b[0m\u001b[0;34m(\u001b[0m\u001b[0mZMQIOLoop\u001b[0m\u001b[0;34m,\u001b[0m \u001b[0mself\u001b[0m\u001b[0;34m)\u001b[0m\u001b[0;34m.\u001b[0m\u001b[0mstart\u001b[0m\u001b[0;34m(\u001b[0m\u001b[0;34m)\u001b[0m\u001b[0;34m\u001b[0m\u001b[0m\n\u001b[0m\u001b[1;32m    178\u001b[0m         \u001b[0;32mexcept\u001b[0m \u001b[0mZMQError\u001b[0m \u001b[0;32mas\u001b[0m \u001b[0me\u001b[0m\u001b[0;34m:\u001b[0m\u001b[0;34m\u001b[0m\u001b[0m\n\u001b[1;32m    179\u001b[0m             \u001b[0;32mif\u001b[0m \u001b[0me\u001b[0m\u001b[0;34m.\u001b[0m\u001b[0merrno\u001b[0m \u001b[0;34m==\u001b[0m \u001b[0mETERM\u001b[0m\u001b[0;34m:\u001b[0m\u001b[0;34m\u001b[0m\u001b[0m\n",
      "\u001b[0;32m/Users/sjk/anaconda/lib/python3.6/site-packages/tornado/ioloop.py\u001b[0m in \u001b[0;36mstart\u001b[0;34m(self)\u001b[0m\n\u001b[1;32m    750\u001b[0m     \u001b[0;32mdef\u001b[0m \u001b[0mstart\u001b[0m\u001b[0;34m(\u001b[0m\u001b[0mself\u001b[0m\u001b[0;34m)\u001b[0m\u001b[0;34m:\u001b[0m\u001b[0;34m\u001b[0m\u001b[0m\n\u001b[1;32m    751\u001b[0m         \u001b[0;32mif\u001b[0m \u001b[0mself\u001b[0m\u001b[0;34m.\u001b[0m\u001b[0m_running\u001b[0m\u001b[0;34m:\u001b[0m\u001b[0;34m\u001b[0m\u001b[0m\n\u001b[0;32m--> 752\u001b[0;31m             \u001b[0;32mraise\u001b[0m \u001b[0mRuntimeError\u001b[0m\u001b[0;34m(\u001b[0m\u001b[0;34m\"IOLoop is already running\"\u001b[0m\u001b[0;34m)\u001b[0m\u001b[0;34m\u001b[0m\u001b[0m\n\u001b[0m\u001b[1;32m    753\u001b[0m         \u001b[0mself\u001b[0m\u001b[0;34m.\u001b[0m\u001b[0m_setup_logging\u001b[0m\u001b[0;34m(\u001b[0m\u001b[0;34m)\u001b[0m\u001b[0;34m\u001b[0m\u001b[0m\n\u001b[1;32m    754\u001b[0m         \u001b[0;32mif\u001b[0m \u001b[0mself\u001b[0m\u001b[0;34m.\u001b[0m\u001b[0m_stopped\u001b[0m\u001b[0;34m:\u001b[0m\u001b[0;34m\u001b[0m\u001b[0m\n",
      "\u001b[0;31mRuntimeError\u001b[0m: IOLoop is already running"
     ]
    }
   ],
   "source": [
    "# -*- Coding: utf-8 -*-\n",
    "from tornado.ioloop import IOLoop\n",
    "from tornado.web import Application,RequestHandler,url\n",
    "class MainHandler(RequestHandler):\n",
    "    def get(self):\n",
    "        self.render('main.html',title=\"한글\",mesg=\"한글을 사랑합시다\")\n",
    "def make_app():\n",
    "    return Application([url(r\"/\",MainHandler)])\n",
    "app = make_app()\n",
    "app.listen(8080)\n",
    "IOLoop.current().start()"
   ]
  },
  {
   "cell_type": "code",
   "execution_count": 10,
   "metadata": {
    "collapsed": false
   },
   "outputs": [
    {
     "name": "stdout",
     "output_type": "stream",
     "text": [
      "55\n"
     ]
    }
   ],
   "source": [
    "def f(n):\n",
    "    if n <= 0:\n",
    "        return 0\n",
    "    else:\n",
    "        return g(n,n-1)\n",
    "def g(*args):\n",
    "    return h(m=args[0],n=args[1])\n",
    "def h(**kwargs):\n",
    "    if 'm' in kwargs:\n",
    "        m = kwargs['m']\n",
    "    else: \n",
    "        m=0\n",
    "    if 'n' in kwargs:\n",
    "        n = kwargs['n']\n",
    "    else:\n",
    "        n=0\n",
    "    return m + f(n)\n",
    "print(f(10))"
   ]
  },
  {
   "cell_type": "code",
   "execution_count": null,
   "metadata": {
    "collapsed": true
   },
   "outputs": [],
   "source": []
  }
 ],
 "metadata": {
  "kernelspec": {
   "display_name": "Python 3",
   "language": "python",
   "name": "python3"
  },
  "language_info": {
   "codemirror_mode": {
    "name": "ipython",
    "version": 3
   },
   "file_extension": ".py",
   "mimetype": "text/x-python",
   "name": "python",
   "nbconvert_exporter": "python",
   "pygments_lexer": "ipython3",
   "version": "3.6.0"
  }
 },
 "nbformat": 4,
 "nbformat_minor": 2
}
