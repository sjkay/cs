{
 "cells": [
  {
   "cell_type": "code",
   "execution_count": 1,
   "metadata": {
    "collapsed": false
   },
   "outputs": [
    {
     "name": "stdout",
     "output_type": "stream",
     "text": [
      "1000.0\n"
     ]
    }
   ],
   "source": [
    "print(1e3)"
   ]
  },
  {
   "cell_type": "code",
   "execution_count": 2,
   "metadata": {
    "collapsed": false
   },
   "outputs": [
    {
     "name": "stdout",
     "output_type": "stream",
     "text": [
      "True\n"
     ]
    }
   ],
   "source": [
    "if 1e3 == 1000:\n",
    "    print(True)\n",
    "else:\n",
    "    print(False)"
   ]
  },
  {
   "cell_type": "code",
   "execution_count": 3,
   "metadata": {
    "collapsed": false
   },
   "outputs": [
    {
     "name": "stdout",
     "output_type": "stream",
     "text": [
      "0.001\n"
     ]
    }
   ],
   "source": [
    "print(1e-03)"
   ]
  },
  {
   "cell_type": "code",
   "execution_count": 9,
   "metadata": {
    "collapsed": false
   },
   "outputs": [
    {
     "name": "stdout",
     "output_type": "stream",
     "text": [
      "True\n"
     ]
    }
   ],
   "source": [
    "if 1e-3 == 1/1000:\n",
    "    print(True)\n",
    "else:\n",
    "    print(False)"
   ]
  },
  {
   "cell_type": "raw",
   "metadata": {},
   "source": [
    "\n"
   ]
  },
  {
   "cell_type": "code",
   "execution_count": 10,
   "metadata": {
    "collapsed": false
   },
   "outputs": [
    {
     "name": "stdout",
     "output_type": "stream",
     "text": [
      "-1.4080\n"
     ]
    }
   ],
   "source": [
    "str = \"{:6.4f}\".format(-1.408)\n",
    "print(str)"
   ]
  },
  {
   "cell_type": "code",
   "execution_count": 13,
   "metadata": {
    "collapsed": false
   },
   "outputs": [
    {
     "name": "stdout",
     "output_type": "stream",
     "text": [
      " -1.41\n"
     ]
    }
   ],
   "source": [
    "str = \"{:6.2f}\".format(-1.408)\n",
    "print(str)"
   ]
  },
  {
   "cell_type": "code",
   "execution_count": 14,
   "metadata": {
    "collapsed": false
   },
   "outputs": [
    {
     "name": "stdout",
     "output_type": "stream",
     "text": [
      "1.0\n"
     ]
    }
   ],
   "source": [
    "import math\n",
    "print(math.exp(0))"
   ]
  },
  {
   "cell_type": "code",
   "execution_count": 15,
   "metadata": {
    "collapsed": false
   },
   "outputs": [
    {
     "name": "stdout",
     "output_type": "stream",
     "text": [
      "2.718281828459045\n"
     ]
    }
   ],
   "source": [
    "import math\n",
    "print(math.exp(1))"
   ]
  },
  {
   "cell_type": "code",
   "execution_count": 16,
   "metadata": {
    "collapsed": false
   },
   "outputs": [
    {
     "name": "stdout",
     "output_type": "stream",
     "text": [
      "7.3890560989306495\n"
     ]
    }
   ],
   "source": [
    "import math\n",
    "print(math.exp(1)*math.exp(1))"
   ]
  },
  {
   "cell_type": "code",
   "execution_count": 17,
   "metadata": {
    "collapsed": false
   },
   "outputs": [
    {
     "name": "stdout",
     "output_type": "stream",
     "text": [
      "7.38905609893065\n"
     ]
    }
   ],
   "source": [
    "import math\n",
    "print(math.exp(2))"
   ]
  },
  {
   "cell_type": "code",
   "execution_count": 18,
   "metadata": {
    "collapsed": false
   },
   "outputs": [
    {
     "name": "stdout",
     "output_type": "stream",
     "text": [
      "8.881784197001252e-16\n"
     ]
    }
   ],
   "source": [
    "import math\n",
    "print(math.exp(2)-math.exp(1)*math.exp(1))"
   ]
  },
  {
   "cell_type": "code",
   "execution_count": 19,
   "metadata": {
    "collapsed": true
   },
   "outputs": [],
   "source": [
    "def f(x):\n",
    "    return 1/math.exp(x**2)*math.cos(5*x) - 0.1"
   ]
  },
  {
   "cell_type": "code",
   "execution_count": 20,
   "metadata": {
    "collapsed": false
   },
   "outputs": [
    {
     "name": "stdout",
     "output_type": "stream",
     "text": [
      "0.9\n"
     ]
    }
   ],
   "source": [
    "print(f(0))"
   ]
  },
  {
   "cell_type": "code",
   "execution_count": 21,
   "metadata": {
    "collapsed": false
   },
   "outputs": [
    {
     "name": "stdout",
     "output_type": "stream",
     "text": [
      "0.0001\n"
     ]
    }
   ],
   "source": [
    "print(\"{:5.4f}\".format(f(-1.408)))"
   ]
  },
  {
   "cell_type": "code",
   "execution_count": 22,
   "metadata": {
    "collapsed": false
   },
   "outputs": [
    {
     "name": "stdout",
     "output_type": "stream",
     "text": [
      "0.0000\n"
     ]
    }
   ],
   "source": [
    "print(\"{:5.4f}\".format(f(-1.408176)))"
   ]
  },
  {
   "cell_type": "code",
   "execution_count": 23,
   "metadata": {
    "collapsed": false
   },
   "outputs": [
    {
     "name": "stdout",
     "output_type": "stream",
     "text": [
      "-0.1112\n",
      "0.0062\n"
     ]
    }
   ],
   "source": [
    "print(\"{:5.4f}\".format(f(-1.6)))\n",
    "print(\"{:5.4f}\".format(f(-1.4)))"
   ]
  },
  {
   "cell_type": "code",
   "execution_count": 46,
   "metadata": {
    "collapsed": false
   },
   "outputs": [
    {
     "name": "stdout",
     "output_type": "stream",
     "text": [
      "-0.03758231970356801\n",
      "-0.030627681984840602\n",
      "-0.023510572012027012\n",
      "-0.016249276015807793\n",
      "-0.008863642562765742\n",
      "-0.0013750754331557369\n",
      "5.752099086540896e-05\n",
      "0.013817564707581678\n"
     ]
    }
   ],
   "source": [
    "print(f(-1.46))\n",
    "print(f(-1.45))\n",
    "print(f(-1.44))\n",
    "print(f(-1.43))\n",
    "print(f(-1.42))\n",
    "print(f(-1.41))\n",
    "print(f(-1.4081))\n",
    "print(f(-1.39))"
   ]
  },
  {
   "cell_type": "code",
   "execution_count": 50,
   "metadata": {
    "collapsed": true
   },
   "outputs": [],
   "source": [
    "def crossing_finder(f,start=-10,end=10,n=100):\n",
    "    r = end - start\n",
    "    x_list = [i / n * r + start for i in range(n)]\n",
    "    y_list = [f(x) for x in x_list]\n",
    "    prev_x = x_list[0]\n",
    "    prev_y = y_list[0]\n",
    "    crossing_list = []\n",
    "    for i in range(1,n):\n",
    "        x = x_list[i]\n",
    "        y = y_list[i]\n",
    "        if prev_y * y < 0:\n",
    "            crossing_list.append((prev_x,x))\n",
    "        prev_x = x\n",
    "        prev_y = y\n",
    "    return crossing_list"
   ]
  },
  {
   "cell_type": "code",
   "execution_count": 51,
   "metadata": {
    "collapsed": false
   },
   "outputs": [
    {
     "name": "stdout",
     "output_type": "stream",
     "text": [
      "(-1.6000,-1.4000)\n",
      "(-1.0000,-0.8000)\n",
      "(-0.4000,-0.2000)\n",
      "(0.2000,0.4000)\n",
      "(0.8000,1.0000)\n",
      "(1.4000,1.6000)\n"
     ]
    }
   ],
   "source": [
    "f = lambda x: 1/math.exp(x**2)*math.cos(5*x) - 0.1\n",
    "c = crossing_finder(f)\n",
    "for (start,end) in c:\n",
    "    print(\"({:6.4f},{:6.4f})\".format(start,end))"
   ]
  },
  {
   "cell_type": "code",
   "execution_count": 54,
   "metadata": {
    "collapsed": false
   },
   "outputs": [
    {
     "name": "stdout",
     "output_type": "stream",
     "text": [
      "ans[0] = -1.4082\n",
      "ans[1] = -0.9972\n",
      "ans[2] = -0.2923\n",
      "ans[3] = 0.2923\n",
      "ans[4] = 0.9972\n",
      "ans[5] = 1.4082\n"
     ]
    }
   ],
   "source": [
    "def zero_finder(f,start,end,eps=1E-9):\n",
    "    x = (start + end) / 2\n",
    "    y1 = f(start)\n",
    "    y = f(x)\n",
    "    y2 = f(end)\n",
    "    if math.fabs(y) < eps:\n",
    "        return x\n",
    "    elif y1*y < 0:\n",
    "        return zero_finder(f,start,x,eps)\n",
    "    else:\n",
    "        return zero_finder(f,x,end,eps)\n",
    "ans_list = []\n",
    "for (start,end) in c:\n",
    "    ans_list.append(zero_finder(f,start,end))\n",
    "for i in range(len(ans_list)):\n",
    "    ans = ans_list[i]\n",
    "    print(\"ans[{1}] = {0:6.4f}\".format(ans,i))"
   ]
  },
  {
   "cell_type": "code",
   "execution_count": null,
   "metadata": {
    "collapsed": true
   },
   "outputs": [],
   "source": []
  }
 ],
 "metadata": {
  "kernelspec": {
   "display_name": "Python 3",
   "language": "python",
   "name": "python3"
  },
  "language_info": {
   "codemirror_mode": {
    "name": "ipython",
    "version": 3
   },
   "file_extension": ".py",
   "mimetype": "text/x-python",
   "name": "python",
   "nbconvert_exporter": "python",
   "pygments_lexer": "ipython3",
   "version": "3.6.0"
  }
 },
 "nbformat": 4,
 "nbformat_minor": 2
}
