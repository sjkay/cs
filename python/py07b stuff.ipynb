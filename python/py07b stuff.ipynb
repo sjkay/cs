{
 "cells": [
  {
   "cell_type": "code",
   "execution_count": 5,
   "metadata": {
    "collapsed": false
   },
   "outputs": [],
   "source": [
    "import math\n",
    "class Vector:\n",
    "    def __init__(self,lst,dim=None):\n",
    "        self._vec = list(lst)\n",
    "        if dim is None:\n",
    "            self._dim = len(self._vec)\n",
    "        else:\n",
    "            self._dim = dim\n",
    "    def dim(self):\n",
    "        return self._dim\n",
    "    def __repr__(self):\n",
    "        return \"Vector({0})\".format(self._vec)\n",
    "    def __str__(self):\n",
    "        if (self.dim() > 3):\n",
    "            return \"Vector({},{},...)\".format(self[0],self[1]);\n",
    "        else:\n",
    "            return self.__repr__()\n",
    "    def __getitem__(self,key):\n",
    "        return self._vec[key]\n",
    "    def __setitem__(self,key,val):\n",
    "        self._vec[key] = val\n",
    "    def __add__(self,other):\n",
    "        return Vector([self[i] + other[i] for i in range(self.dim())])\n",
    "    def __sub__(self,other):\n",
    "        return Vector([self[i] - other[i] for i in range(self.dim())])\n",
    "    def size(self):\n",
    "        return math.sqrt(sum([x*x for x in self._vec]))"
   ]
  },
  {
   "cell_type": "code",
   "execution_count": 11,
   "metadata": {
    "collapsed": false
   },
   "outputs": [
    {
     "name": "stdout",
     "output_type": "stream",
     "text": [
      "x-y= Vector(10,0,...)\n",
      "x+y= Vector(10,2,...)\n",
      "x[10]= 10\n",
      "(x-y).size()= 10.0\n"
     ]
    }
   ],
   "source": [
    "x = Vector(range(100))\n",
    "y = Vector(range(100))\n",
    "x[0] = 10\n",
    "print('x-y=', x - y)\n",
    "print('x+y=', x + y)\n",
    "print('x[10]=',x[10])\n",
    "print('(x-y).size()=',(x-y).size())"
   ]
  },
  {
   "cell_type": "code",
   "execution_count": 12,
   "metadata": {
    "collapsed": true
   },
   "outputs": [],
   "source": [
    "class Point(Vector):\n",
    "    def __init__(self,lst):\n",
    "        super().__init__(lst)\n",
    "    def distance(self,other):\n",
    "        d=self-other\n",
    "        return d.size()"
   ]
  },
  {
   "cell_type": "code",
   "execution_count": 15,
   "metadata": {
    "collapsed": false
   },
   "outputs": [
    {
     "name": "stdout",
     "output_type": "stream",
     "text": [
      "p1.distance(p2)= 10.0\n"
     ]
    }
   ],
   "source": [
    "p1 = Point(range(100))\n",
    "p2 = Point(range(100))\n",
    "p1[0] = 10\n",
    "print(\"p1.distance(p2)=\",p1.distance(p2))"
   ]
  },
  {
   "cell_type": "code",
   "execution_count": null,
   "metadata": {
    "collapsed": true
   },
   "outputs": [],
   "source": []
  }
 ],
 "metadata": {
  "kernelspec": {
   "display_name": "Python 3",
   "language": "python",
   "name": "python3"
  },
  "language_info": {
   "codemirror_mode": {
    "name": "ipython",
    "version": 3
   },
   "file_extension": ".py",
   "mimetype": "text/x-python",
   "name": "python",
   "nbconvert_exporter": "python",
   "pygments_lexer": "ipython3",
   "version": "3.6.0"
  }
 },
 "nbformat": 4,
 "nbformat_minor": 2
}
