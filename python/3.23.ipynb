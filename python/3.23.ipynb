{
 "cells": [
  {
   "cell_type": "code",
   "execution_count": 2,
   "metadata": {
    "collapsed": false
   },
   "outputs": [
    {
     "name": "stdout",
     "output_type": "stream",
     "text": [
      "2 * 1 = 2\n",
      "2 * 2 = 4\n",
      "2 * 3 = 6\n",
      "2 * 4 = 8\n",
      "2 * 5 = 10\n",
      "2 * 6 = 12\n",
      "2 * 7 = 14\n",
      "2 * 8 = 16\n",
      "2 * 9 = 18\n"
     ]
    }
   ],
   "source": [
    "def mult(i,j):\n",
    "    print (i, \"*\", j, \"=\", i*j)\n",
    "def right(i,j,n):\n",
    "    if j < n:\n",
    "        mult(i,j)\n",
    "        right(i,j+1,n)\n",
    "right(2,1,10)"
   ]
  },
  {
   "cell_type": "code",
   "execution_count": 3,
   "metadata": {
    "collapsed": false
   },
   "outputs": [
    {
     "name": "stdout",
     "output_type": "stream",
     "text": [
      "2 * 1 = 2\n",
      "2 * 2 = 4\n",
      "3 * 1 = 3\n",
      "3 * 2 = 6\n",
      "4 * 1 = 4\n",
      "4 * 2 = 8\n"
     ]
    }
   ],
   "source": [
    "def mult(i,j):\n",
    "    print (i, \"*\", j, \"=\", i*j)\n",
    "def right(i,j,n):\n",
    "    if j < n:\n",
    "        mult(i,j)\n",
    "        right(i,j+1,n)\n",
    "def left(i,m,n):\n",
    "    if i < m:\n",
    "        right(i,1,n)\n",
    "        left(i+1,m,n)\n",
    "left(2,5,3)"
   ]
  },
  {
   "cell_type": "code",
   "execution_count": 4,
   "metadata": {
    "collapsed": false
   },
   "outputs": [
    {
     "name": "stdout",
     "output_type": "stream",
     "text": [
      "['This', 'is', 'right', 'justified']\n"
     ]
    }
   ],
   "source": [
    "s = 'This is right justified'\n",
    "def mysplit(s):\n",
    "    lst = []\n",
    "    tmp = ''\n",
    "    for c in s:\n",
    "        if c != ' ':\n",
    "            tmp = tmp + c\n",
    "        else:\n",
    "            lst.append(tmp)\n",
    "            tmp = ''\n",
    "    if tmp != '':\n",
    "        lst.append(tmp)\n",
    "        tmp = ''\n",
    "    return lst\n",
    "print(mysplit(s))"
   ]
  },
  {
   "cell_type": "code",
   "execution_count": 5,
   "metadata": {
    "collapsed": false
   },
   "outputs": [
    {
     "name": "stdout",
     "output_type": "stream",
     "text": [
      "3\n",
      "4\n"
     ]
    }
   ],
   "source": [
    "x = [1,2,3]\n",
    "print(len(x))\n",
    "x.append(4)\n",
    "print(len(x))"
   ]
  },
  {
   "cell_type": "code",
   "execution_count": 6,
   "metadata": {
    "collapsed": false
   },
   "outputs": [
    {
     "name": "stdout",
     "output_type": "stream",
     "text": [
      "HELLO\n"
     ]
    }
   ],
   "source": [
    "print('hello'.upper())"
   ]
  },
  {
   "cell_type": "code",
   "execution_count": 14,
   "metadata": {
    "collapsed": false
   },
   "outputs": [
    {
     "name": "stdout",
     "output_type": "stream",
     "text": [
      "7\n"
     ]
    }
   ],
   "source": [
    "print('{0}'.format(3+4))"
   ]
  },
  {
   "cell_type": "code",
   "execution_count": 17,
   "metadata": {
    "collapsed": false
   },
   "outputs": [
    {
     "name": "stdout",
     "output_type": "stream",
     "text": [
      "7\n"
     ]
    }
   ],
   "source": [
    "print('{x}'.format(x=3+4))"
   ]
  },
  {
   "cell_type": "code",
   "execution_count": 10,
   "metadata": {
    "collapsed": false
   },
   "outputs": [
    {
     "name": "stdout",
     "output_type": "stream",
     "text": [
      "Vector([2, 4, 6])\n"
     ]
    }
   ],
   "source": [
    "class Vector:\n",
    "    def __init__(self,lst):\n",
    "        self.vec = lst\n",
    "    def __repr__(self):\n",
    "        return \"Vector({0})\".format(self.vec)\n",
    "    def __add__(self,other):\n",
    "        return Vector([self.vec[i] + other.vec[i] for i in range(len(self.vec))])\n",
    "x = Vector([1,2,3])\n",
    "print(x + x)"
   ]
  },
  {
   "cell_type": "code",
   "execution_count": null,
   "metadata": {
    "collapsed": true
   },
   "outputs": [],
   "source": []
  }
 ],
 "metadata": {
  "kernelspec": {
   "display_name": "Python 3",
   "language": "python",
   "name": "python3"
  },
  "language_info": {
   "codemirror_mode": {
    "name": "ipython",
    "version": 3
   },
   "file_extension": ".py",
   "mimetype": "text/x-python",
   "name": "python",
   "nbconvert_exporter": "python",
   "pygments_lexer": "ipython3",
   "version": "3.6.0"
  }
 },
 "nbformat": 4,
 "nbformat_minor": 2
}
