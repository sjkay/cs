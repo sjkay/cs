{
 "cells": [
  {
   "cell_type": "code",
   "execution_count": 1,
   "metadata": {
    "collapsed": false
   },
   "outputs": [
    {
     "ename": "ZeroDivisionError",
     "evalue": "division by zero",
     "output_type": "error",
     "traceback": [
      "\u001b[0;31m---------------------------------------------------------------------------\u001b[0m",
      "\u001b[0;31mZeroDivisionError\u001b[0m                         Traceback (most recent call last)",
      "\u001b[0;32m<ipython-input-1-9b4441e5ff3e>\u001b[0m in \u001b[0;36m<module>\u001b[0;34m()\u001b[0m\n\u001b[1;32m      1\u001b[0m \u001b[0;32mfor\u001b[0m \u001b[0mi\u001b[0m \u001b[0;32min\u001b[0m \u001b[0mrange\u001b[0m\u001b[0;34m(\u001b[0m\u001b[0;36m5\u001b[0m\u001b[0;34m)\u001b[0m\u001b[0;34m:\u001b[0m\u001b[0;34m\u001b[0m\u001b[0m\n\u001b[1;32m      2\u001b[0m     \u001b[0mx\u001b[0m\u001b[0;34m=\u001b[0m\u001b[0;36m0\u001b[0m\u001b[0;34m\u001b[0m\u001b[0m\n\u001b[0;32m----> 3\u001b[0;31m     \u001b[0my\u001b[0m\u001b[0;34m=\u001b[0m\u001b[0;36m3\u001b[0m\u001b[0;34m/\u001b[0m\u001b[0mx\u001b[0m\u001b[0;34m\u001b[0m\u001b[0m\n\u001b[0m",
      "\u001b[0;31mZeroDivisionError\u001b[0m: division by zero"
     ]
    }
   ],
   "source": [
    "for i in range(5):\n",
    "    x=0\n",
    "    y=3/x"
   ]
  },
  {
   "cell_type": "code",
   "execution_count": 3,
   "metadata": {
    "collapsed": false
   },
   "outputs": [
    {
     "name": "stdout",
     "output_type": "stream",
     "text": [
      "Something wrong\n",
      "Something wrong\n",
      "Something wrong\n",
      "Something wrong\n",
      "Something wrong\n"
     ]
    }
   ],
   "source": [
    "for i in range(5):\n",
    "    try:\n",
    "        x=0\n",
    "        y=3/x\n",
    "    except Exception:\n",
    "        print(\"Something wrong\")"
   ]
  },
  {
   "cell_type": "code",
   "execution_count": 4,
   "metadata": {
    "collapsed": false
   },
   "outputs": [
    {
     "name": "stdout",
     "output_type": "stream",
     "text": [
      "1.4142135623730951\n"
     ]
    }
   ],
   "source": [
    "import math\n",
    "class Vector2:\n",
    "    def __init__(self,x,y):\n",
    "        self._x = x\n",
    "        self._y = y\n",
    "    def x(self):\n",
    "        return self._x\n",
    "    def y(self):\n",
    "        return self._y\n",
    "    def size(self):\n",
    "        return math.sqrt(self.x()**2 + self.y()**2)\n",
    "v1 = Vector2(1,1)\n",
    "print(v1.size())"
   ]
  },
  {
   "cell_type": "code",
   "execution_count": 5,
   "metadata": {
    "collapsed": false
   },
   "outputs": [
    {
     "name": "stdout",
     "output_type": "stream",
     "text": [
      "Vector2(1,-1)\n",
      "1.4142135623730951\n"
     ]
    }
   ],
   "source": [
    "import math\n",
    "class Vector2:\n",
    "    def __init__(self,x,y):\n",
    "        self._x = x\n",
    "        self._y = y\n",
    "    def x(self):\n",
    "        return self._x\n",
    "    def y(self):\n",
    "        return self._y\n",
    "    def __sub__(self,other):\n",
    "        return Vector2(self.x() - other.x(),\n",
    "                      self.y() - other.y())\n",
    "    def __repr__(self):\n",
    "        return \"Vector2({},{})\".format(self.x(),self.y())\n",
    "    def size(self):\n",
    "        return math.sqrt(self.x()**2 + self.y()**2)\n",
    "v1 = Vector2(1,0)\n",
    "v2 = Vector2(0,1)\n",
    "v = v1 - v2\n",
    "print(v)\n",
    "print(v.size())"
   ]
  },
  {
   "cell_type": "code",
   "execution_count": 7,
   "metadata": {
    "collapsed": false
   },
   "outputs": [
    {
     "name": "stdout",
     "output_type": "stream",
     "text": [
      "1.4142135623730951\n"
     ]
    }
   ],
   "source": [
    "import math\n",
    "class Vector2:\n",
    "    def __init__(self,x,y):\n",
    "        self._x = x\n",
    "        self._y = y\n",
    "    def x(self):\n",
    "        return self._x\n",
    "    def y(self):\n",
    "        return self._y\n",
    "    def __sub__(self,other):\n",
    "        return Vector2(self.x() - other.x(),\n",
    "                      self.y() - other.y())\n",
    "    def __repr__(self):\n",
    "        return \"Vector2({},{})\".format(self.x(),self.y())\n",
    "    def size(self):\n",
    "        return math.sqrt(self.x()**2 + self.y()**2)\n",
    "class Point2(Vector2):\n",
    "    def __init__(self,x,y):\n",
    "        super().__init__(x,y)\n",
    "    def distance(self,other):\n",
    "        v = self - other\n",
    "        return v.size()\n",
    "p1 = Point2(1,0)\n",
    "p2 = Point2(0,1)\n",
    "print(p1.distance(p2))"
   ]
  },
  {
   "cell_type": "code",
   "execution_count": null,
   "metadata": {
    "collapsed": true
   },
   "outputs": [],
   "source": []
  }
 ],
 "metadata": {
  "kernelspec": {
   "display_name": "Python 3",
   "language": "python",
   "name": "python3"
  },
  "language_info": {
   "codemirror_mode": {
    "name": "ipython",
    "version": 3
   },
   "file_extension": ".py",
   "mimetype": "text/x-python",
   "name": "python",
   "nbconvert_exporter": "python",
   "pygments_lexer": "ipython3",
   "version": "3.6.0"
  }
 },
 "nbformat": 4,
 "nbformat_minor": 2
}
