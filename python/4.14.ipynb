{
 "cells": [
  {
   "cell_type": "code",
   "execution_count": 98,
   "metadata": {
    "collapsed": false
   },
   "outputs": [
    {
     "data": {
      "text/plain": [
       "Vector([1, 2, 3])"
      ]
     },
     "execution_count": 98,
     "metadata": {},
     "output_type": "execute_result"
    }
   ],
   "source": [
    "class Point2:\n",
    "    def __init__(self,x,y):\n",
    "        self._x = x\n",
    "        self._y = y\n",
    "    def x(self):\n",
    "        return self._x\n",
    "    def y(self):\n",
    "        return self._y\n",
    "    def distance(self,other):\n",
    "        dx = self.x() - other.x()\n",
    "        dy = self.y() - other.y()\n",
    "        return math.sqrt(dx**2 + dy**2)\n",
    "blank = Point2(1,0)\n",
    "blank.x()\n",
    "class Vector:\n",
    "    def __init__(self,lst):\n",
    "        self._vec = list(lst)\n",
    "    def __repr__(self):\n",
    "        return \"Vector({})\".format(self._vec)\n",
    "    def __getitem__(self,key):\n",
    "        return self._vec[key]\n",
    "    def __add__(self,other):\n",
    "        return Vector([self[i]+other[i] for i in range(len(self._vec))])\n",
    "    def __sub__(self,other):\n",
    "        return Vector([self[i]-other[i] for i in range(len(self._vec))])\n",
    "    def size(self):\n",
    "        return math.sqrt(sum([self[i]**2 for i in range(len(self._vec))]))\n",
    "\n",
    "class Point(Vector):\n",
    "    def __init__(self,x,y):\n",
    "        super().__init__([x,y])\n",
    "    def __repr__(self):\n",
    "        return \"Point([],[])\".format(self[0],self[1])\n",
    "    def __setitem__(self):\n",
    "        return \"Error!\"\n",
    "    def distance(self,other):\n",
    "        d= self-other\n",
    "        return d.size()\n",
    "    def x(self):\n",
    "        return self[0]\n",
    "    def y(self):\n",
    "        return self[1]\n",
    "#v = Vector([1,2])\n",
    "#v[0]=10\n",
    "#print(v)\n",
    "#p1=Point(1,0)\n",
    "#p2=Point(0,1)\n",
    "#p1[0] = 10\n",
    "#print(p1)\n",
    "\n",
    "v1 = Vector([1,2,3])\n",
    "v2 = Vector([3,2,1])\n",
    "v1"
   ]
  },
  {
   "cell_type": "code",
   "execution_count": null,
   "metadata": {
    "collapsed": false
   },
   "outputs": [],
   "source": []
  },
  {
   "cell_type": "code",
   "execution_count": null,
   "metadata": {
    "collapsed": true
   },
   "outputs": [],
   "source": []
  },
  {
   "cell_type": "code",
   "execution_count": null,
   "metadata": {
    "collapsed": true
   },
   "outputs": [],
   "source": []
  }
 ],
 "metadata": {
  "kernelspec": {
   "display_name": "Python 3",
   "language": "python",
   "name": "python3"
  },
  "language_info": {
   "codemirror_mode": {
    "name": "ipython",
    "version": 3
   },
   "file_extension": ".py",
   "mimetype": "text/x-python",
   "name": "python",
   "nbconvert_exporter": "python",
   "pygments_lexer": "ipython3",
   "version": "3.6.0"
  }
 },
 "nbformat": 4,
 "nbformat_minor": 2
}
