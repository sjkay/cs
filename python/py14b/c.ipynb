{
 "cells": [
  {
   "cell_type": "code",
   "execution_count": 5,
   "metadata": {
    "collapsed": false
   },
   "outputs": [
    {
     "data": {
      "text/plain": [
       "['.DocumentRevisions-V100',\n",
       " '.DS_Store',\n",
       " '.file',\n",
       " '.fseventsd',\n",
       " '.PKInstallSandboxManager',\n",
       " '.PKInstallSandboxManager-SystemSoftware',\n",
       " '.Spotlight-V100',\n",
       " '.Trashes',\n",
       " '.vol',\n",
       " 'Applications',\n",
       " 'bin',\n",
       " 'cores',\n",
       " 'dev',\n",
       " 'Developer',\n",
       " 'etc',\n",
       " 'home',\n",
       " 'installer.failurerequests',\n",
       " 'Library',\n",
       " 'net',\n",
       " 'Network',\n",
       " 'opt',\n",
       " 'private',\n",
       " 'sbin',\n",
       " 'System',\n",
       " 'tmp',\n",
       " 'Users',\n",
       " 'usr',\n",
       " 'var',\n",
       " 'Volumes']"
      ]
     },
     "execution_count": 5,
     "metadata": {},
     "output_type": "execute_result"
    }
   ],
   "source": [
    "import os\n",
    "os.listdir('/')"
   ]
  },
  {
   "cell_type": "code",
   "execution_count": null,
   "metadata": {
    "collapsed": false
   },
   "outputs": [],
   "source": []
  },
  {
   "cell_type": "code",
   "execution_count": null,
   "metadata": {
    "collapsed": true
   },
   "outputs": [],
   "source": []
  }
 ],
 "metadata": {
  "kernelspec": {
   "display_name": "Python 3",
   "language": "python",
   "name": "python3"
  },
  "language_info": {
   "codemirror_mode": {
    "name": "ipython",
    "version": 3
   },
   "file_extension": ".py",
   "mimetype": "text/x-python",
   "name": "python",
   "nbconvert_exporter": "python",
   "pygments_lexer": "ipython3",
   "version": "3.6.0"
  }
 },
 "nbformat": 4,
 "nbformat_minor": 2
}
